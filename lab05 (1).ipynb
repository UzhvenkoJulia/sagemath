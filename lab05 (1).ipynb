{
 "cells": [
  {
   "cell_type": "markdown",
   "id": "853ce637-8316-439f-8787-5f6f25de4267",
   "metadata": {},
   "source": [
    "# Лабораторна робота 5 \n",
    "\n",
    "## Завдання 1\n",
    "\n",
    "Розгляньте групу матриць за множенням  \n",
    "\n",
    "$$G = \\left\\langle \\left(\\begin{array}{rrr}\n",
    "1 & 0 & 1 \\\\\n",
    "0 & 1 & 0 \\\\\n",
    "0 & 0 & 1\n",
    "\\end{array}\\right),  \\left(\\begin{array}{rrr}\n",
    "1 & 0 & 0 \\\\\n",
    "0 & 1 & 1 \\\\\n",
    "0 & 0 & 1\n",
    "\\end{array}\\right)\\right\\rangle$$\n",
    "\n",
    "Дайте відповідь на наступні питання: \n",
    "\n",
    "1. _Чи є група G скінченною?_\n",
    "2. _Чи є група G комутативною?_\n",
    "3. _Який вигляд мають елементи групи G?_\n",
    "4. _Які порядки мають елементи групи G?_ \n",
    "5. _Чому ізоморфна група G?_\n",
    "\n",
    "\n",
    "__Відповіді__: \n",
    "1. ... \n",
    "2. ... \n",
    "3. ... \n",
    "4. ... \n",
    "5. ... "
   ]
  },
  {
   "cell_type": "code",
   "execution_count": 33,
   "id": "be9b2439-0658-4e0a-93c6-0850a2e200fe",
   "metadata": {},
   "outputs": [],
   "source": [
    "# Ваш код з поясненнями тут. \n",
    "# Зауваження: у цьому завданні від вас вимагається, в першу чергу, відповіді. Код є суто інструментом для доведення.\n",
    "\n",
    "# 1. перевірити, чи породжена множина матриць буде скінченною групою;\n",
    "# 2. комутативність групи перевіряється за допомогою властивості: A⋅B = B⋅A для всіх матриць A і B у групі;\n",
    "# 3. знайти всі елементи групи G, виконуючи множення матриць;\n",
    "# 4. порядок елемента — це найменше додатне число k, для якого A^k = I;\n",
    "# 5. якій відомій групі ізоморфна група G?"
   ]
  },
  {
   "cell_type": "code",
   "execution_count": 1,
   "id": "6ceba748-5eb6-4120-a6b0-b4192450b798",
   "metadata": {},
   "outputs": [],
   "source": [
    "from sage.all import *\n",
    "\n",
    "A = Matrix([[1, 0, 1], [0, 1, 0], [0, 0, 1]])\n",
    "B = Matrix([[1, 0, 0], [0, 1, 1], [0, 0, 1]])\n",
    "\n",
    "G = MatrixGroup([A, B])"
   ]
  },
  {
   "cell_type": "code",
   "execution_count": 2,
   "id": "33af06ee-7f30-43f3-8e1a-6a45b91e5c5c",
   "metadata": {},
   "outputs": [
    {
     "data": {
      "text/plain": [
       "False"
      ]
     },
     "execution_count": 2,
     "metadata": {},
     "output_type": "execute_result"
    }
   ],
   "source": [
    "# 1\n",
    "is_finite = G.is_finite()\n",
    "is_finite"
   ]
  },
  {
   "cell_type": "code",
   "execution_count": 4,
   "id": "86606971-b719-4f80-95e0-b8d2947f6da0",
   "metadata": {},
   "outputs": [
    {
     "data": {
      "text/plain": [
       "True"
      ]
     },
     "execution_count": 4,
     "metadata": {},
     "output_type": "execute_result"
    }
   ],
   "source": [
    "# 2\n",
    "is_abelian = G.is_abelian()\n",
    "is_abelian"
   ]
  },
  {
   "cell_type": "code",
   "execution_count": 6,
   "id": "8078585d-855c-4f53-af16-96b9bdf67937",
   "metadata": {},
   "outputs": [
    {
     "data": {
      "text/plain": [
       "(2, 2)"
      ]
     },
     "execution_count": 6,
     "metadata": {},
     "output_type": "execute_result"
    }
   ],
   "source": [
    "# матриці у полі залишків за модулем 2, наприклад\n",
    "A_mod = Matrix(GF(2), A)\n",
    "B_mod = Matrix(GF(2), B)\n",
    "\n",
    "# порядок для матриць у полі GF(2)\n",
    "order_A_mod = matrix_order(A_mod, max_iters=100)\n",
    "order_B_mod = matrix_order(B_mod, max_iters=100)\n",
    "order_A_mod, order_B_mod"
   ]
  },
  {
   "cell_type": "code",
   "execution_count": 5,
   "id": "21733bc0-0887-41a5-9df5-6b641b26b8a3",
   "metadata": {},
   "outputs": [
    {
     "data": {
      "text/plain": [
       "(None, None)"
      ]
     },
     "execution_count": 5,
     "metadata": {},
     "output_type": "execute_result"
    }
   ],
   "source": [
    "# обчислення порядку матриці з обмеженням на кількість ітерацій\n",
    "def matrix_order(M, max_iters=1000):\n",
    "    I = identity_matrix(M.nrows())  # одинична матриця того ж розміру\n",
    "    power = M\n",
    "    n = 1\n",
    "    while power != I and n <= max_iters:\n",
    "        power *= M\n",
    "        n += 1\n",
    "    if power == I:\n",
    "        return n\n",
    "    else:\n",
    "        return None  # порядок не знайдено за max_iters кроків\n",
    "\n",
    "order_A = matrix_order(A, max_iters=1000)\n",
    "order_B = matrix_order(B, max_iters=1000)\n",
    "order_A, order_B"
   ]
  },
  {
   "cell_type": "code",
   "execution_count": 9,
   "id": "70715380-62cf-43ac-a6c9-e57b1217c9b5",
   "metadata": {},
   "outputs": [
    {
     "data": {
      "text/plain": [
       "[[1 0 0]\n",
       " [0 1 0]\n",
       " [0 0 1],\n",
       " [1 0 0]\n",
       " [0 1 1]\n",
       " [0 0 1],\n",
       " [1 0 0]\n",
       " [0 1 2]\n",
       " [0 0 1],\n",
       " [1 0 1]\n",
       " [0 1 0]\n",
       " [0 0 1],\n",
       " [1 0 1]\n",
       " [0 1 1]\n",
       " [0 0 1],\n",
       " [1 0 1]\n",
       " [0 1 2]\n",
       " [0 0 1],\n",
       " [1 0 2]\n",
       " [0 1 0]\n",
       " [0 0 1],\n",
       " [1 0 2]\n",
       " [0 1 1]\n",
       " [0 0 1],\n",
       " [1 0 2]\n",
       " [0 1 2]\n",
       " [0 0 1]]"
      ]
     },
     "execution_count": 9,
     "metadata": {},
     "output_type": "execute_result"
    }
   ],
   "source": [
    "# 4. Який вигляд мають елементи групи G?\n",
    "# перелічити всі її елементи неможливо. \n",
    "# можна описати вигляд елементів групи на основі їх генераторів\n",
    "\n",
    "# група складається з усіх можливих добутків цих двох матриць та їх степенів\n",
    "\n",
    "# приклад: кілька елементів групи через добутки A і B\n",
    "elements = [A**i * B**j for i in range(3) for j in range(3)]\n",
    "elements"
   ]
  },
  {
   "cell_type": "code",
   "execution_count": 13,
   "id": "7293f1ca-dded-4b52-aefd-544400a9bc1f",
   "metadata": {},
   "outputs": [
    {
     "data": {
      "text/plain": [
       "True"
      ]
     },
     "execution_count": 13,
     "metadata": {},
     "output_type": "execute_result"
    }
   ],
   "source": [
    "# 5\n",
    "# чи комутативна група\n",
    "# якщо після перевірки комутативності група G є комутативною і має нескінченний порядок, вона може бути ізоморфною деякій абелевій групі\n",
    "\n",
    "is_commutative = A * B == B * A\n",
    "is_commutative"
   ]
  },
  {
   "cell_type": "code",
   "execution_count": 16,
   "id": "3ccdd52e-034c-4160-be4c-aeb4e8e181b2",
   "metadata": {},
   "outputs": [
    {
     "name": "stdout",
     "output_type": "stream",
     "text": [
      "група G: Matrix group over Integer Ring with 2 generators (\n",
      "[1 0 1]  [1 0 0]\n",
      "[0 1 0]  [0 1 1]\n",
      "[0 0 1], [0 0 1]\n",
      ")\n",
      "к-сть унікальних елементів: 3\n"
     ]
    }
   ],
   "source": [
    "from sage.all import *\n",
    "\n",
    "A = Matrix([[1, 0, 1], [0, 1, 0], [0, 0, 1]])\n",
    "B = Matrix([[1, 0, 0], [0, 1, 1], [0, 0, 1]])\n",
    "\n",
    "G = MatrixGroup([A, B])\n",
    "\n",
    "print(\"група G:\", G)\n",
    "\n",
    "# чи група нескінченна?\n",
    "# декілька елементів групи\n",
    "elements = [G([1, 0, 0, 0, 1, 0, 0, 0, 1]), \n",
    "            G([1, 0, 1, 0, 1, 0, 0, 0, 1]), \n",
    "            G([1, 0, 0, 0, 1, 1, 0, 0, 1])]\n",
    "\n",
    "print(\"к-сть унікальних елементів:\", len(set(elements)))"
   ]
  },
  {
   "cell_type": "code",
   "execution_count": 32,
   "id": "1d9c794c-da16-4b26-bef2-2e9f6bcc6cb4",
   "metadata": {},
   "outputs": [
    {
     "name": "stdout",
     "output_type": "stream",
     "text": [
      "порядок групи G: +Infinity\n",
      "деякі елементи групи G:\n",
      "елемент 1: (-1, -1, 1)\n",
      "елемент 2: (0, -1, 1)\n",
      "елемент 3: (1, -1, 1)\n",
      "елемент 4: (-1, 0, 1)\n",
      "елемент 5: (0, 0, 1)\n",
      "елемент 6: (1, 0, 1)\n",
      "елемент 7: (-1, 1, 1)\n",
      "елемент 8: (0, 1, 1)\n",
      "елемент 9: (1, 1, 1)\n",
      "елемент 10: (-1, -1, 1)\n",
      "елемент 11: (0, -1, 1)\n",
      "елемент 12: (1, -1, 1)\n",
      "елемент 13: (-1, 0, 1)\n",
      "елемент 14: (0, 0, 1)\n",
      "елемент 15: (1, 0, 1)\n",
      "елемент 16: (-1, 1, 1)\n",
      "елемент 17: (0, 1, 1)\n",
      "елемент 18: (1, 1, 1)\n",
      "елемент 19: (-1, -1, 1)\n",
      "елемент 20: (0, -1, 1)\n",
      "елемент 21: (1, -1, 1)\n",
      "елемент 22: (-1, 0, 1)\n",
      "елемент 23: (0, 0, 1)\n",
      "елемент 24: (1, 0, 1)\n",
      "елемент 25: (-1, 1, 1)\n",
      "елемент 26: (0, 1, 1)\n",
      "елемент 27: (1, 1, 1)\n",
      "к-сть унікальних елементів: 9\n",
      "група G є абелевою: True\n",
      "комутаторні елементи (не нульові):\n"
     ]
    }
   ],
   "source": [
    "from sage.all import *\n",
    "\n",
    "A = Matrix([[1, 0, 1], [0, 1, 0], [0, 0, 1]])\n",
    "B = Matrix([[1, 0, 0], [0, 1, 1], [0, 0, 1]])\n",
    "\n",
    "G = MatrixGroup([A, B])\n",
    "\n",
    "print(\"порядок групи G:\", G.order())\n",
    "\n",
    "elements = []\n",
    "for x in range(-1, 2): \n",
    "    for y in range(-1, 2):  \n",
    "        for z in range(-1, 2):  \n",
    "            g = Matrix([[1, 0, z], [0, 1, y], [0, 0, 1]])\n",
    "            # координати у вигляді кортежу\n",
    "            elements.append((g[0, 2], g[1, 2], g[2, 2]))  \n",
    "\n",
    "print(\"деякі елементи групи G:\")\n",
    "for i, g in enumerate(elements):\n",
    "    print(f\"елемент {i + 1}: {g}\")\n",
    "\n",
    "unique_elements = set(elements)  # кортежі\n",
    "print(\"к-сть унікальних елементів:\", len(unique_elements))\n",
    "\n",
    "is_abelian = (A * B == B * A)  # для генераторів\n",
    "print(\"група G є абелевою:\", is_abelian)\n",
    "\n",
    "# комутаторні елементи\n",
    "commutators = [(a * b - b * a) for a in [A, B] for b in [A, B]]\n",
    "non_zero_commutators = [c for c in commutators if c != Matrix([[0, 0, 0], [0, 0, 0], [0, 0, 0]])]\n",
    "\n",
    "print(\"комутаторні елементи (не нульові):\")\n",
    "for c in non_zero_commutators:\n",
    "    print(c)"
   ]
  },
  {
   "cell_type": "code",
   "execution_count": 19,
   "id": "a6d9d019-0cfd-4659-a643-997f641c8dc0",
   "metadata": {},
   "outputs": [
    {
     "name": "stdout",
     "output_type": "stream",
     "text": [
      "група G: Matrix group over Integer Ring with 2 generators (\n",
      "[1 0 1]  [1 0 0]\n",
      "[0 1 0]  [0 1 1]\n",
      "[0 0 1], [0 0 1]\n",
      ")\n",
      "к-сть унікальних елементів в G: 9\n",
      "група G є ізоморфною до R^3\n"
     ]
    }
   ],
   "source": [
    "# 5\n",
    "\n",
    "from sage.all import *\n",
    "\n",
    "A = Matrix([[1, 0, 1], [0, 1, 0], [0, 0, 1]])\n",
    "B = Matrix([[1, 0, 0], [0, 1, 1], [0, 0, 1]])\n",
    "\n",
    "G = MatrixGroup([A, B])\n",
    "print(\"група G:\", G)\n",
    "\n",
    "# створ матричний ізоморфізм до R^3\n",
    "# абстрактна група R^3\n",
    "R3 = VectorSpace(QQ, 3)\n",
    "\n",
    "elements = []\n",
    "\n",
    "for x in range(-1, 2):  # змін x\n",
    "    for y in range(-1, 2):  # змін y\n",
    "        for z in range(-1, 2):  # z\n",
    "            g = Matrix([[1, 0, z], [0, 1, y], [0, 0, 1]])\n",
    "            elements.append(R3([g[0, 2], g[1, 2], g[2, 2]]))\n",
    "\n",
    "unique_elements = set(tuple(e) for e in elements)\n",
    "\n",
    "print(\"к-сть унікальних елементів в G:\", len(unique_elements))\n",
    "print(\"група G є ізоморфною до R^3\")"
   ]
  },
  {
   "cell_type": "markdown",
   "id": "4b51fa8b-4aaf-4b15-9478-a546c500583d",
   "metadata": {},
   "source": [
    "## Завдання 2 \n",
    "\n",
    "Розгляньте групу матриць за множенням: \n",
    "\n",
    "$$G = \\left\\langle \\left(\\begin{array}{rr}\n",
    "1 & -1 \\\\\n",
    "-1 & 2\n",
    "\\end{array}\\right), \\left(\\begin{array}{rr}\n",
    "3 & 2 \\\\\n",
    "2 & 1\n",
    "\\end{array}\\right) \\right\\rangle$$\n",
    "\n",
    "Дайте відповідь на наступні питання: \n",
    "\n",
    "1. _Чи є група G скінченною?_\n",
    "2. _Чи є група G комутативною?_\n",
    "3. _Який вигляд мають елементи групи G?_\n",
    "4. _Які порядки мають елементи групи G?_ \n",
    "5. _Чому ізоморфна група G?_\n",
    "\n",
    "\n",
    "__Відповіді__: \n",
    "1. ... \n",
    "2. ... \n",
    "3. ... \n",
    "4. ... \n",
    "5. ... "
   ]
  },
  {
   "cell_type": "code",
   "execution_count": 35,
   "id": "90507d96-1506-4ac1-af8b-e7ad3840755a",
   "metadata": {},
   "outputs": [
    {
     "name": "stdout",
     "output_type": "stream",
     "text": [
      "група G є нескінченною\n"
     ]
    }
   ],
   "source": [
    "# Ваш код з поясненнями тут \n",
    "# 1\n",
    "# перевіримо порядк групи\n",
    "\n",
    "A = Matrix([[1, -1], [-1, 2]])\n",
    "B = Matrix([[3, 2], [2, 1]])\n",
    "\n",
    "G = MatrixGroup([A, B])\n",
    "\n",
    "order_of_G = G.order()\n",
    "\n",
    "if order_of_G == +Infinity:\n",
    "    print(\"група G є нескінченною\")\n",
    "else:\n",
    "    print(f\"група G є скінченною, і її порядок дорівнює {order_of_G}\")"
   ]
  },
  {
   "cell_type": "code",
   "execution_count": 36,
   "id": "4537ec36-05d0-408e-b022-eb2dda2b91c3",
   "metadata": {},
   "outputs": [
    {
     "data": {
      "text/plain": [
       "True"
      ]
     },
     "execution_count": 36,
     "metadata": {},
     "output_type": "execute_result"
    }
   ],
   "source": [
    "# 2. чи є група G абелевою (комутативною)? \n",
    "G.is_abelian()"
   ]
  },
  {
   "cell_type": "code",
   "execution_count": 39,
   "id": "45d865ff-be2b-46a3-a46b-949d9eaf8ed7",
   "metadata": {},
   "outputs": [
    {
     "name": "stdout",
     "output_type": "stream",
     "text": [
      "елемент 1: [1 1]\n",
      "[1 0]\n",
      "елемент 2: [1 1]\n",
      "[1 0]\n",
      "елемент 3: [ 2 -3]\n",
      "[-3  5]\n",
      "елемент 4: [13  8]\n",
      "[ 8  5]\n"
     ]
    }
   ],
   "source": [
    "# 3\n",
    "# кілька елементів групи за допомогою генераторів виводимо\n",
    "A = Matrix([[1, -1], [-1, 2]])\n",
    "B = Matrix([[3, 2], [2, 1]])\n",
    "\n",
    "# приклад кількох операцій\n",
    "element_1 = A * B\n",
    "element_2 = B * A\n",
    "element_3 = A**2\n",
    "element_4 = B**2\n",
    "\n",
    "print(\"елемент 1:\", element_1)\n",
    "print(\"елемент 2:\", element_2)\n",
    "print(\"елемент 3:\", element_3)\n",
    "print(\"елемент 4:\", element_4)"
   ]
  },
  {
   "cell_type": "code",
   "execution_count": 43,
   "id": "eac2a6a0-685d-4353-85f5-4200c6d3d4b2",
   "metadata": {},
   "outputs": [
    {
     "name": "stdout",
     "output_type": "stream",
     "text": [
      "порядок A: +Infinity\n",
      "порядок B: +Infinity\n",
      "порядок A * B: +Infinity\n",
      "порядок B * A: +Infinity\n"
     ]
    }
   ],
   "source": [
    "# 4\n",
    "# порядок окремих елемента в G\n",
    "\n",
    "# обчислення порядку елемента (матриці)\n",
    "def matrix_order(M):\n",
    "    I = identity_matrix(M.nrows())  \n",
    "    prod = M\n",
    "    order = 1\n",
    "    while prod != I:\n",
    "        prod *= M\n",
    "        order += 1\n",
    "        if order > 100: \n",
    "            return +Infinity\n",
    "    return order\n",
    "\n",
    "A = Matrix([[1, -1], [-1, 2]])\n",
    "B = Matrix([[3, 2], [2, 1]])\n",
    "\n",
    "order_A = matrix_order(A)\n",
    "order_B = matrix_order(B)\n",
    "order_AB = matrix_order(A * B)\n",
    "order_BA = matrix_order(B * A)\n",
    "\n",
    "print(\"порядок A:\", order_A)\n",
    "print(\"порядок B:\", order_B)\n",
    "print(\"порядок A * B:\", order_AB)\n",
    "print(\"порядок B * A:\", order_BA)"
   ]
  },
  {
   "cell_type": "code",
   "execution_count": 50,
   "id": "5cdab7e1-f4c4-439d-bbaa-06e4509cf0d5",
   "metadata": {},
   "outputs": [
    {
     "name": "stdout",
     "output_type": "stream",
     "text": [
      "порядок A: +Infinity\n",
      "порядок B: +Infinity\n",
      "порядок A * B: +Infinity\n",
      "порядок B * A: +Infinity\n",
      "матриці A і B лінійно незалежні: True\n",
      "група G: Matrix group over Integer Ring with 2 generators (\n",
      "[ 1 -1]  [3 2]\n",
      "[-1  2], [2 1]\n",
      ")\n",
      "розмір групи G: +Infinity\n",
      "порядок групи G: +Infinity\n",
      "генератори групи G: ([ 1 -1]\n",
      "[-1  2], [3 2]\n",
      "[2 1])\n"
     ]
    }
   ],
   "source": [
    "A = Matrix([[1, -1], [-1, 2]])\n",
    "B = Matrix([[3, 2], [2, 1]])\n",
    "\n",
    "def matrix_order(M):\n",
    "    I = identity_matrix(M.nrows())  \n",
    "    prod = M\n",
    "    order = 1\n",
    "    while prod != I:\n",
    "        prod *= M\n",
    "        order += 1\n",
    "        if order > 100: \n",
    "            return +Infinity  \n",
    "    return order\n",
    "\n",
    "order_A = matrix_order(A)\n",
    "order_B = matrix_order(B)\n",
    "order_AB = matrix_order(A * B)\n",
    "order_BA = matrix_order(B * A)\n",
    "\n",
    "print(\"порядок A:\", order_A)\n",
    "print(\"порядок B:\", order_B)\n",
    "print(\"порядок A * B:\", order_AB)\n",
    "print(\"порядок B * A:\", order_BA)\n",
    "\n",
    "# перевірка лінійної незалежності\n",
    "# об'єднуємо матриці в одну і перевіряємо ранг\n",
    "combined_matrix = Matrix([A.column(0), A.column(1), B.column(0), B.column(1)])\n",
    "independent = combined_matrix.rank() == 2  # для 2-ох незалежних векторів\n",
    "\n",
    "print(\"матриці A і B лінійно незалежні:\", independent)\n",
    "\n",
    "G = MatrixGroup([A, B])\n",
    "\n",
    "print(\"група G:\", G)\n",
    "print(\"розмір групи G:\", G.cardinality())\n",
    "print(\"порядок групи G:\", G.order())\n",
    "\n",
    "generators = G.gens()\n",
    "print(\"генератори групи G:\", generators)"
   ]
  },
  {
   "cell_type": "code",
   "execution_count": 51,
   "id": "4935f189-d050-46c6-8249-55b663a5a5da",
   "metadata": {},
   "outputs": [
    {
     "name": "stdout",
     "output_type": "stream",
     "text": [
      "детермінант A: 1\n",
      "детермінант B: -1\n"
     ]
    }
   ],
   "source": [
    "# обчислення детермінантів\n",
    "det_A = A.determinant()\n",
    "det_B = B.determinant()\n",
    "\n",
    "print(\"детермінант A:\", det_A)\n",
    "print(\"детермінант B:\", det_B)"
   ]
  },
  {
   "cell_type": "code",
   "execution_count": 55,
   "id": "29a7e949-c2cc-480a-8717-a7454aa38637",
   "metadata": {},
   "outputs": [
    {
     "name": "stdout",
     "output_type": "stream",
     "text": [
      "група G: Matrix group over Integer Ring with 2 generators (\n",
      "[ 1 -1]  [3 2]\n",
      "[-1  2], [2 1]\n",
      ")\n",
      "порядок групи G: +Infinity\n",
      "група G має порядок: +Infinity - не співпадає з відомими групами\n"
     ]
    }
   ],
   "source": [
    "# 5\n",
    "\n",
    "A = Matrix([[1, -1], [-1, 2]])\n",
    "B = Matrix([[3, 2], [2, 1]])\n",
    "\n",
    "G = MatrixGroup([A, B])\n",
    "\n",
    "print(\"група G:\", G)\n",
    "\n",
    "order_G = G.order()\n",
    "print(\"порядок групи G:\", order_G)\n",
    "\n",
    "# порівняння з відомими групами на основі порядку\n",
    "if order_G == 9:\n",
    "    print(\"група G може бути ізоморфна до Z/3Z × Z/3Z (абелева група)\")\n",
    "elif order_G == 6:\n",
    "    print(\"група G може бути ізоморфна до S_3 (симетрична група)\")\n",
    "elif order_G == 12:\n",
    "    print(\"група G може бути ізоморфна до D_6 (діедральна група)\")\n",
    "else:\n",
    "    print(\"група G має порядок:\", order_G, \"- не співпадає з відомими групами\")"
   ]
  },
  {
   "cell_type": "code",
   "execution_count": 58,
   "id": "a4cf10df-41e6-434b-a630-20f2a4b26527",
   "metadata": {},
   "outputs": [
    {
     "data": {
      "text/plain": [
       "(1, -1, +Infinity)"
      ]
     },
     "execution_count": 58,
     "metadata": {},
     "output_type": "execute_result"
    }
   ],
   "source": [
    "A = Matrix([[1, -1], [-1, 2]])\n",
    "B = Matrix([[3, 2], [2, 1]])\n",
    "\n",
    "det_A = A.determinant()\n",
    "det_B = B.determinant()\n",
    "\n",
    "G = MatrixGroup([A, B])\n",
    "order_G = G.order()\n",
    "\n",
    "det_A, det_B, order_G\n",
    "\n",
    "# Якщо обидва детермінанти ненульові, група не є тривіальною"
   ]
  },
  {
   "cell_type": "markdown",
   "id": "19188467-cc30-42b5-a48c-1329337ff2c0",
   "metadata": {},
   "source": [
    "## Завдання 3\n",
    "\n",
    "Розгляньте групу матриць за множенням: \n",
    "\n",
    "$$K = \\left\\langle \\left(\\begin{array}{rrr}\n",
    "-1 & 0 & 0 \\\\\n",
    "0 & 1 & \\frac{1}{2} \\\\\n",
    "0 & 0 & 1\n",
    "\\end{array}\\right), \n",
    "\\left(\\begin{array}{rrr}\n",
    "1 & 0 & 1 \\\\\n",
    "0 & 1 & 0 \\\\\n",
    "0 & 0 & 1\n",
    "\\end{array}\\right) \\right\\rangle$$\n",
    "\n",
    "Дайте відповідь на наступні питання: \n",
    "\n",
    "1. _Чи є група K скінченною?_\n",
    "2. _Чи є група K комутативною?_\n",
    "3. _Який вигляд мають елементи групи K?_\n",
    "4. _Які порядки мають елементи групи K?_ \n",
    "\n",
    "__Відповіді__: \n",
    "1. ... \n",
    "2. ... \n",
    "3. ... \n",
    "4. ... \n",
    "5. ... \n",
    "\n",
    "\n",
    "__Додаткова задача:__\n",
    "Опишіть підгрупи групи K з точністю до ізоморфізму. "
   ]
  },
  {
   "cell_type": "code",
   "execution_count": 76,
   "id": "1f51d514-03de-461e-a1f1-74833730ac63",
   "metadata": {},
   "outputs": [
    {
     "data": {
      "text/plain": [
       "(True, 4)"
      ]
     },
     "execution_count": 76,
     "metadata": {},
     "output_type": "execute_result"
    }
   ],
   "source": [
    "# 1\n",
    "from sage.all import *\n",
    "\n",
    "A = Matrix([[ -1, 0, 0 ],\n",
    "             [ 0, 1, 1/2 ],\n",
    "             [ 0, 0, 1 ]])\n",
    "\n",
    "B = Matrix([[ 1, 0, 1 ],\n",
    "             [ 0, 1, 0 ],\n",
    "             [ 0, 0, 1 ]])\n",
    "\n",
    "K = MatrixGroup([A, B])\n",
    "\n",
    "elements_K = [A**i * B**j for i in range(2) for j in range(2)]  # вибір i, j = 0, 1\n",
    "is_finite = len(elements_K) < float('inf')  # чи є група K скінченною\n",
    "is_finite, len(elements_K)"
   ]
  },
  {
   "cell_type": "code",
   "execution_count": 79,
   "id": "94da84aa-ed29-4a40-be3b-a8fb487ae058",
   "metadata": {},
   "outputs": [
    {
     "data": {
      "text/plain": [
       "False"
      ]
     },
     "execution_count": 79,
     "metadata": {},
     "output_type": "execute_result"
    }
   ],
   "source": [
    "# 2\n",
    "is_abelian = all((g1 * g2 == g2 * g1) for g1 in elements_K for g2 in elements_K)\n",
    "is_abelian"
   ]
  },
  {
   "cell_type": "code",
   "execution_count": 82,
   "id": "c072c6d6-983c-4c54-85bc-a8dc428899a0",
   "metadata": {},
   "outputs": [
    {
     "data": {
      "text/plain": [
       "[[1.0 0.0 0.0]\n",
       " [0.0 1.0 0.0]\n",
       " [0.0 0.0 1.0],\n",
       " [1.0 0.0 1.0]\n",
       " [0.0 1.0 0.0]\n",
       " [0.0 0.0 1.0],\n",
       " [-1.0  0.0  0.0]\n",
       " [ 0.0  1.0  0.5]\n",
       " [ 0.0  0.0  1.0],\n",
       " [-1.0  0.0 -1.0]\n",
       " [ 0.0  1.0  0.5]\n",
       " [ 0.0  0.0  1.0]]"
      ]
     },
     "execution_count": 82,
     "metadata": {},
     "output_type": "execute_result"
    }
   ],
   "source": [
    "# 3\n",
    "elements_K"
   ]
  },
  {
   "cell_type": "code",
   "execution_count": 83,
   "id": "5d49028c-533a-49a6-a109-07b635a37c66",
   "metadata": {},
   "outputs": [
    {
     "data": {
      "text/plain": [
       "[[1.0 0.0 0.0]\n",
       " [0.0 1.0 0.0]\n",
       " [0.0 0.0 1.0],\n",
       " [1.0 0.0 1.0]\n",
       " [0.0 1.0 0.0]\n",
       " [0.0 0.0 1.0],\n",
       " [-1.0  0.0  0.0]\n",
       " [ 0.0  1.0  0.5]\n",
       " [ 0.0  0.0  1.0],\n",
       " [-1.0  0.0 -1.0]\n",
       " [ 0.0  1.0  0.5]\n",
       " [ 0.0  0.0  1.0]]"
      ]
     },
     "execution_count": 83,
     "metadata": {},
     "output_type": "execute_result"
    }
   ],
   "source": [
    "# всі елементи групи K\n",
    "elements_K = list(elements_K)\n",
    "elements_K"
   ]
  },
  {
   "cell_type": "code",
   "execution_count": 89,
   "id": "d9dc158b-85cb-46f6-ab25-4af73cafe15b",
   "metadata": {},
   "outputs": [
    {
     "data": {
      "text/plain": [
       "[1, None, None, None]"
      ]
     },
     "execution_count": 89,
     "metadata": {},
     "output_type": "execute_result"
    }
   ],
   "source": [
    "# 4\n",
    "# визначення порядку матриці\n",
    "def matrix_order(g):\n",
    "    n = 1\n",
    "    while n < 100:  \n",
    "        if g**n == Matrix.identity(3):\n",
    "            return n\n",
    "        n += 1\n",
    "    return None  \n",
    "    \n",
    "orders = [matrix_order(g) for g in elements_K]\n",
    "orders"
   ]
  },
  {
   "cell_type": "code",
   "execution_count": 88,
   "id": "5aa52b8e-326a-4f9d-a84e-f73ce7e3140f",
   "metadata": {},
   "outputs": [
    {
     "data": {
      "text/plain": [
       "[1, None, None, None]"
      ]
     },
     "execution_count": 88,
     "metadata": {},
     "output_type": "execute_result"
    }
   ],
   "source": [
    "# (збільшена межа)\n",
    "def matrix_order(g):\n",
    "    n = 1\n",
    "    while n < 200:\n",
    "        if g**n == Matrix.identity(3):\n",
    "            return n\n",
    "        n += 1\n",
    "    return Non\n",
    "\n",
    "orders = [matrix_order(g) for g in elements_K]\n",
    "orders"
   ]
  },
  {
   "cell_type": "code",
   "execution_count": 102,
   "id": "953ff606-561c-4060-91dc-c5b8a8f21d40",
   "metadata": {},
   "outputs": [
    {
     "name": "stdout",
     "output_type": "stream",
     "text": [
      "унікальні елементи групи K:\n",
      "[1 0 0]\n",
      "[0 1 0]\n",
      "[0 0 1]\n",
      "[-1.0  0.0  0.0]\n",
      "[ 0.0  1.0  0.5]\n",
      "[ 0.0  0.0  1.0]\n",
      "[1 0 1]\n",
      "[0 1 0]\n",
      "[0 0 1]\n",
      "[1 0 2]\n",
      "[0 1 0]\n",
      "[0 0 1]\n",
      "[1.0 0.0 0.0]\n",
      "[0.0 1.0 1.0]\n",
      "[0.0 0.0 1.0]\n",
      "[-1.0  0.0 -1.0]\n",
      "[ 0.0  1.0  0.5]\n",
      "[ 0.0  0.0  1.0]\n",
      "[-1.0  0.0 -2.0]\n",
      "[ 0.0  1.0  0.5]\n",
      "[ 0.0  0.0  1.0]\n",
      "[-1.0  0.0  1.0]\n",
      "[ 0.0  1.0  0.5]\n",
      "[ 0.0  0.0  1.0]\n",
      "[1 0 3]\n",
      "[0 1 0]\n",
      "[0 0 1]\n",
      "[-1.0  0.0  2.0]\n",
      "[ 0.0  1.0  0.5]\n",
      "[ 0.0  0.0  1.0]\n",
      "[1 0 4]\n",
      "[0 1 0]\n",
      "[0 0 1]\n"
     ]
    }
   ],
   "source": [
    "# Опишіть підгрупи групи K з точністю до ізоморфізму.\n",
    "\n",
    "A = Matrix([[ -1, 0, 0 ],\n",
    "             [ 0, 1, 1/2 ],\n",
    "             [ 0, 0, 1 ]])\n",
    "B = Matrix([[ 1, 0, 1 ],\n",
    "             [ 0, 1, 0 ],\n",
    "             [ 0, 0, 1 ]])\n",
    "\n",
    "K = MatrixGroup([A, B])\n",
    "\n",
    "I = Matrix([[1, 0, 0],\n",
    "             [0, 1, 0],\n",
    "             [0, 0, 1]])\n",
    "\n",
    "elements = [I]  \n",
    "\n",
    "for i in range(2):  # кілька степенів A\n",
    "    elements.append(A ** i)\n",
    "\n",
    "for j in range(3):  \n",
    "    elements.append(B ** j)\n",
    "\n",
    "subgroups = []  \n",
    "for i in range(len(elements)):\n",
    "    for j in range(len(elements)):\n",
    "        # зберіг елем, добуваючи їх добуток\n",
    "        product = elements[i] * elements[j]\n",
    "        if product not in subgroups:\n",
    "            subgroups.append(product)\n",
    "\n",
    "print(\"унікальні елементи групи K:\")\n",
    "for elem in subgroups:\n",
    "    print(elem)"
   ]
  },
  {
   "cell_type": "code",
   "execution_count": 106,
   "id": "a05c4e36-7ecb-453c-90d7-b2be3e05892e",
   "metadata": {},
   "outputs": [
    {
     "name": "stdout",
     "output_type": "stream",
     "text": [
      "підгрупи групи K з точністю до ізоморфізму:\n",
      "([1 0 0]\n",
      "[0 1 0]\n",
      "[0 0 1],)\n",
      "([1.0 0.0 0.0]\n",
      "[0.0 1.0 0.0]\n",
      "[0.0 0.0 1.0],)\n",
      "([1 0 0]\n",
      "[0 1 0]\n",
      "[0 0 1],)\n",
      "([1 0 0]\n",
      "[0 1 0]\n",
      "[0 0 1], [1.0 0.0 0.0]\n",
      "[0.0 1.0 0.0]\n",
      "[0.0 0.0 1.0])\n",
      "([1 0 0]\n",
      "[0 1 0]\n",
      "[0 0 1], [1 0 0]\n",
      "[0 1 0]\n",
      "[0 0 1])\n",
      "([1.0 0.0 0.0]\n",
      "[0.0 1.0 0.0]\n",
      "[0.0 0.0 1.0], [1 0 0]\n",
      "[0 1 0]\n",
      "[0 0 1])\n",
      "([1 0 0]\n",
      "[0 1 0]\n",
      "[0 0 1], [1.0 0.0 0.0]\n",
      "[0.0 1.0 0.0]\n",
      "[0.0 0.0 1.0], [1 0 0]\n",
      "[0 1 0]\n",
      "[0 0 1])\n"
     ]
    }
   ],
   "source": [
    "A = Matrix([[ -1, 0, 0 ],\n",
    "             [ 0, 1, 1/2 ],\n",
    "             [ 0, 0, 1 ]])\n",
    "B = Matrix([[ 1, 0, 1 ],\n",
    "             [ 0, 1, 0 ],\n",
    "             [ 0, 0, 1 ]])\n",
    "\n",
    "K = MatrixGroup([A, B])\n",
    "\n",
    "I = Matrix([[1, 0, 0],\n",
    "             [0, 1, 0],\n",
    "             [0, 0, 1]])\n",
    "\n",
    "elements = [I] \n",
    "\n",
    "# комбіновані елементи\n",
    "for i in range(2):\n",
    "    elements.append(A ** i)\n",
    "\n",
    "for j in range(3): \n",
    "    elements.append(B ** j)\n",
    "\n",
    "# чи утворює підмножина підгрупу?\n",
    "def is_subgroup(subset):\n",
    "    if I not in subset:\n",
    "        return False\n",
    "    for x in subset:\n",
    "        for y in subset:\n",
    "            if x * y not in subset or x.inverse() not in subset:\n",
    "                return False\n",
    "    return True\n",
    "\n",
    "# всі підгрупи\n",
    "subgroups = []\n",
    "\n",
    "from itertools import combinations\n",
    "\n",
    "for r in range(1, len(elements) + 1):\n",
    "    for combo in combinations(elements, r):\n",
    "        if is_subgroup(combo):\n",
    "            subgroups.append(combo)\n",
    "\n",
    "print(\"підгрупи групи K з точністю до ізоморфізму:\")\n",
    "for H in subgroups:\n",
    "    print(H)"
   ]
  }
 ],
 "metadata": {
  "kernelspec": {
   "display_name": "Python 3 (ipykernel)",
   "language": "python",
   "name": "python3"
  },
  "language_info": {
   "codemirror_mode": {
    "name": "ipython",
    "version": 3
   },
   "file_extension": ".py",
   "mimetype": "text/x-python",
   "name": "python",
   "nbconvert_exporter": "python",
   "pygments_lexer": "ipython3",
   "version": "3.11.10"
  }
 },
 "nbformat": 4,
 "nbformat_minor": 5
}
