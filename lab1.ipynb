{
 "cells": [
  {
   "cell_type": "code",
   "execution_count": 5,
   "id": "4bcde0e1-f9a8-4de1-ab95-36c954af77df",
   "metadata": {},
   "outputs": [],
   "source": [
    "# Вступне завдання на знайомство з базовим синтаксисом Sage"
   ]
  },
  {
   "cell_type": "code",
   "execution_count": 6,
   "id": "6ffd318f-26ab-4a25-802b-308041cb151b",
   "metadata": {},
   "outputs": [],
   "source": [
    "# Прості арифметичні операції"
   ]
  },
  {
   "cell_type": "code",
   "execution_count": 7,
   "id": "34db3a13-9deb-426f-8242-1bef39b60a12",
   "metadata": {},
   "outputs": [
    {
     "data": {
      "text/plain": [
       "42"
      ]
     },
     "execution_count": 7,
     "metadata": {},
     "output_type": "execute_result"
    }
   ],
   "source": [
    "25 + 17"
   ]
  },
  {
   "cell_type": "code",
   "execution_count": 8,
   "id": "68577477-d5c5-43dd-9fe5-a4c9b2e51a71",
   "metadata": {},
   "outputs": [
    {
     "data": {
      "text/plain": [
       "63"
      ]
     },
     "execution_count": 8,
     "metadata": {},
     "output_type": "execute_result"
    }
   ],
   "source": [
    "7 * 9"
   ]
  },
  {
   "cell_type": "code",
   "execution_count": 9,
   "id": "8a92aeeb-95f4-4d22-aa60-624ddce65ee7",
   "metadata": {},
   "outputs": [
    {
     "data": {
      "text/plain": [
       "12"
      ]
     },
     "execution_count": 9,
     "metadata": {},
     "output_type": "execute_result"
    }
   ],
   "source": [
    "144 / 12"
   ]
  },
  {
   "cell_type": "code",
   "execution_count": 10,
   "id": "e8f022b1-8e43-4db9-bc8f-a78703580735",
   "metadata": {},
   "outputs": [],
   "source": [
    "# Цілочисельні операції"
   ]
  },
  {
   "cell_type": "code",
   "execution_count": 11,
   "id": "067013b1-8958-472b-83eb-c42a241ede18",
   "metadata": {},
   "outputs": [
    {
     "data": {
      "text/plain": [
       "2"
      ]
     },
     "execution_count": 11,
     "metadata": {},
     "output_type": "execute_result"
    }
   ],
   "source": [
    "156 % 7 #Mod(156,7)"
   ]
  },
  {
   "cell_type": "code",
   "execution_count": 12,
   "id": "de14f304-b280-4190-bc57-3cf66b9ecaa4",
   "metadata": {},
   "outputs": [
    {
     "data": {
      "text/plain": [
       "22"
      ]
     },
     "execution_count": 12,
     "metadata": {},
     "output_type": "execute_result"
    }
   ],
   "source": [
    "156 // 7"
   ]
  },
  {
   "cell_type": "code",
   "execution_count": 13,
   "id": "3c0e438b-5ae0-49f3-873d-85ae8f7454a2",
   "metadata": {},
   "outputs": [
    {
     "data": {
      "text/plain": [
       "2^3 * 11 * 23"
      ]
     },
     "execution_count": 13,
     "metadata": {},
     "output_type": "execute_result"
    }
   ],
   "source": [
    "# Розкладіть число 2024 на множники\n",
    "factor(2024)"
   ]
  },
  {
   "cell_type": "code",
   "execution_count": 14,
   "id": "2b7785b7-a5e1-4425-8b1e-77bcfe2a31d0",
   "metadata": {},
   "outputs": [],
   "source": [
    "# Степені та корені"
   ]
  },
  {
   "cell_type": "code",
   "execution_count": 15,
   "id": "cd67173d-6793-4a43-b692-a9b6043c577d",
   "metadata": {},
   "outputs": [
    {
     "data": {
      "text/plain": [
       "125"
      ]
     },
     "execution_count": 15,
     "metadata": {},
     "output_type": "execute_result"
    }
   ],
   "source": [
    "5^3 #pow(5, 3)"
   ]
  },
  {
   "cell_type": "code",
   "execution_count": 16,
   "id": "05627013-ca74-460f-ab14-5b255c3ffc4d",
   "metadata": {},
   "outputs": [
    {
     "data": {
      "text/plain": [
       "7"
      ]
     },
     "execution_count": 16,
     "metadata": {},
     "output_type": "execute_result"
    }
   ],
   "source": [
    "sqrt(49)"
   ]
  },
  {
   "cell_type": "code",
   "execution_count": 17,
   "id": "cc23cafc-bc92-4949-ba86-007dbd660a00",
   "metadata": {},
   "outputs": [],
   "source": [
    "# Стандартні функції"
   ]
  },
  {
   "cell_type": "code",
   "execution_count": 18,
   "id": "02ef01fe-3a75-4409-a157-a69eb423946f",
   "metadata": {},
   "outputs": [
    {
     "data": {
      "text/plain": [
       "(1, 1.00000000000000)"
      ]
     },
     "execution_count": 18,
     "metadata": {},
     "output_type": "execute_result"
    }
   ],
   "source": [
    "cos(0), cos(0).n()"
   ]
  },
  {
   "cell_type": "code",
   "execution_count": 19,
   "id": "fb786c8b-a725-48fb-8e84-252ce7352a2d",
   "metadata": {},
   "outputs": [
    {
     "data": {
      "text/plain": [
       "(0, 0.000000000000000)"
      ]
     },
     "execution_count": 19,
     "metadata": {},
     "output_type": "execute_result"
    }
   ],
   "source": [
    "sin(pi), sin(pi).n()"
   ]
  },
  {
   "cell_type": "code",
   "execution_count": 20,
   "id": "8d3abb7a-a8d9-4912-b3b4-32b3f2db96ac",
   "metadata": {},
   "outputs": [
    {
     "data": {
      "text/plain": [
       "(e^2, 7.38905609893065)"
      ]
     },
     "execution_count": 20,
     "metadata": {},
     "output_type": "execute_result"
    }
   ],
   "source": [
    "exp(2), exp(2).n()"
   ]
  },
  {
   "cell_type": "code",
   "execution_count": 21,
   "id": "fcc1eaa4-5b74-417a-a4be-98f94329c4d3",
   "metadata": {},
   "outputs": [
    {
     "data": {
      "text/plain": [
       "(1, 1.00000000000000)"
      ]
     },
     "execution_count": 21,
     "metadata": {},
     "output_type": "execute_result"
    }
   ],
   "source": [
    "tan(pi/4), tan(pi/4).n()"
   ]
  },
  {
   "cell_type": "code",
   "execution_count": 22,
   "id": "ee3ffe2c-ab00-430e-bc7b-a32edce8176e",
   "metadata": {},
   "outputs": [
    {
     "data": {
      "text/plain": [
       "(1/2*pi, 1.57079632679490)"
      ]
     },
     "execution_count": 22,
     "metadata": {},
     "output_type": "execute_result"
    }
   ],
   "source": [
    "arcsin(1), arcsin(1).n()"
   ]
  },
  {
   "cell_type": "code",
   "execution_count": 23,
   "id": "0508c14b-e087-44b7-ad89-29ea0c3112b1",
   "metadata": {},
   "outputs": [],
   "source": [
    "# Змінні"
   ]
  },
  {
   "cell_type": "code",
   "execution_count": 24,
   "id": "a3d93ace-a4df-451d-a435-30e733c70642",
   "metadata": {},
   "outputs": [
    {
     "data": {
      "text/plain": [
       "(25, 150)"
      ]
     },
     "execution_count": 24,
     "metadata": {},
     "output_type": "execute_result"
    }
   ],
   "source": [
    "x = 10\n",
    "y = 15\n",
    "sum_xy = x + y\n",
    "prod_xy = x * y\n",
    "sum_xy, prod_xy"
   ]
  },
  {
   "cell_type": "code",
   "execution_count": 25,
   "id": "bdcc6ba7-3eb3-4ba1-bca8-6b492906eff5",
   "metadata": {},
   "outputs": [],
   "source": [
    "# Символьні вирази !!!"
   ]
  },
  {
   "cell_type": "code",
   "execution_count": 26,
   "id": "8ffa09bd-0ea9-461f-8c0a-79a6e412f9d5",
   "metadata": {},
   "outputs": [
    {
     "data": {
      "text/plain": [
       "28"
      ]
     },
     "execution_count": 26,
     "metadata": {},
     "output_type": "execute_result"
    }
   ],
   "source": [
    "z = 3\n",
    "res = 3*pow(z,2) + 2*z - 5\n",
    "res"
   ]
  },
  {
   "cell_type": "code",
   "execution_count": 27,
   "id": "03369034-2e20-4b12-9015-84799a12df30",
   "metadata": {},
   "outputs": [
    {
     "data": {
      "text/plain": [
       "5*x"
      ]
     },
     "execution_count": 27,
     "metadata": {},
     "output_type": "execute_result"
    }
   ],
   "source": [
    "# Спрощення виразів\n",
    "x = var('x')\n",
    "expr_x = 2*x^2 + 4*x - 2*x^2 + x\n",
    "simplify(expr_x)\n",
    "# simplify() використовується для спрощення математичних виразів"
   ]
  },
  {
   "cell_type": "code",
   "execution_count": 28,
   "id": "66577683-d3bb-47d9-bae7-009641eda072",
   "metadata": {},
   "outputs": [
    {
     "data": {
      "text/plain": [
       "x^2 - x - 6"
      ]
     },
     "execution_count": 28,
     "metadata": {},
     "output_type": "execute_result"
    }
   ],
   "source": [
    "# Розкриття дужок\n",
    "expand((x+2)*(x-3))"
   ]
  },
  {
   "cell_type": "code",
   "execution_count": 29,
   "id": "deeacc8b-91a9-43e4-b9b7-34f6035c8d34",
   "metadata": {},
   "outputs": [
    {
     "data": {
      "text/plain": [
       "(x - 4)*(x - 5)"
      ]
     },
     "execution_count": 29,
     "metadata": {},
     "output_type": "execute_result"
    }
   ],
   "source": [
    "# Факторизація\n",
    "factor(x^2 - 9*x + 20) #factor(pow(x, 2) - 9*x + 20)"
   ]
  },
  {
   "cell_type": "code",
   "execution_count": 30,
   "id": "a43b9e00-47d2-4d6f-a7e4-567908e48b84",
   "metadata": {},
   "outputs": [
    {
     "data": {
      "text/plain": [
       "[x == 3, x == 1]"
      ]
     },
     "execution_count": 30,
     "metadata": {},
     "output_type": "execute_result"
    }
   ],
   "source": [
    "# Розв'язування рівнянь\n",
    "solve(x^2 - 4*x + 3 == 0, x)"
   ]
  },
  {
   "cell_type": "code",
   "execution_count": 31,
   "id": "b2f21c8f-0351-4d6f-b306-3dc48f876ca6",
   "metadata": {},
   "outputs": [
    {
     "data": {
      "image/png": "[encoded data removed]",
      "text/plain": [
       "Graphics object consisting of 1 graphics primitive"
      ]
     },
     "execution_count": 31,
     "metadata": {},
     "output_type": "execute_result"
    }
   ],
   "source": [
    "# Графік функції\n",
    "x = var('x')\n",
    "f = x^2 - 4*x + 3\n",
    "plot(f, (x, -5, 5)) \n",
    "#f = pow(x, 2) - 4*x + 3\n",
    "#plot(f, (x, -5, 5))"
   ]
  },
  {
   "cell_type": "code",
   "execution_count": 32,
   "id": "8be61a78-fedd-4e80-a1be-a3bf257fc494",
   "metadata": {},
   "outputs": [
    {
     "data": {
      "text/plain": [
       "3*x^2 + 10*x - 2"
      ]
     },
     "execution_count": 32,
     "metadata": {},
     "output_type": "execute_result"
    }
   ],
   "source": [
    "# Похідна\n",
    "x = var('x')\n",
    "f = x^3 + 5*x^2 - 2*x + 7 #pow (^)\n",
    "f_derivative = diff(f, x)\n",
    "f_derivative"
   ]
  },
  {
   "cell_type": "code",
   "execution_count": 33,
   "id": "bfbc4548-7ef5-4396-bdfa-e147fe6e3b69",
   "metadata": {},
   "outputs": [
    {
     "data": {
      "text/plain": [
       "1/2*x^4 - 1/3*x^3 + 5*x"
      ]
     },
     "execution_count": 33,
     "metadata": {},
     "output_type": "execute_result"
    }
   ],
   "source": [
    "# Первісна\n",
    "x = var('x')\n",
    "f = 2*x^3 - x^2 + 5\n",
    "integral(f, x)"
   ]
  },
  {
   "cell_type": "code",
   "execution_count": 34,
   "id": "39e2e220-9732-40e2-a78f-5217a07a51a1",
   "metadata": {},
   "outputs": [
    {
     "data": {
      "text/plain": [
       "21"
      ]
     },
     "execution_count": 34,
     "metadata": {},
     "output_type": "execute_result"
    }
   ],
   "source": [
    "# Визначений інтеграл\n",
    "f = pow(x, 2)\n",
    "integral(f, (x, 1, 4))"
   ]
  },
  {
   "cell_type": "code",
   "execution_count": 35,
   "id": "68dfe170-6400-46b9-aa1a-dbc9d841e77d",
   "metadata": {},
   "outputs": [
    {
     "data": {
      "text/plain": [
       "[1 2]\n",
       "[3 4]"
      ]
     },
     "execution_count": 35,
     "metadata": {},
     "output_type": "execute_result"
    }
   ],
   "source": [
    "# Матриці\n",
    "A = Matrix([[1, 2], [3, 4]])\n",
    "A"
   ]
  },
  {
   "cell_type": "code",
   "execution_count": 36,
   "id": "40d3d914-e69d-4de6-b62e-1f7eafff8ff1",
   "metadata": {},
   "outputs": [
    {
     "data": {
      "text/plain": [
       "(\n",
       "[1 3]    \n",
       "[2 4], -2\n",
       ")"
      ]
     },
     "execution_count": 36,
     "metadata": {},
     "output_type": "execute_result"
    }
   ],
   "source": [
    "# Операції з матрицями\n",
    "A = Matrix([[1, 2], [3, 4]])\n",
    "A_transpose = A.transpose()\n",
    "A_determinant = A.determinant()\n",
    "A_transpose, A_determinant"
   ]
  },
  {
   "cell_type": "code",
   "execution_count": 37,
   "id": "586c25db-eb73-45e9-b358-16c57d5bb2a8",
   "metadata": {},
   "outputs": [
    {
     "data": {
      "text/plain": [
       "[-0.2360679774997897?, 4.236067977499789?]"
      ]
     },
     "execution_count": 37,
     "metadata": {},
     "output_type": "execute_result"
    }
   ],
   "source": [
    "# Власні значення\n",
    "A = Matrix([[1, 2], [2, 3]])\n",
    "A.eigenvalues()"
   ]
  },
  {
   "cell_type": "code",
   "execution_count": 38,
   "id": "9f4055ec-15f3-4393-aeec-ae264b81a06d",
   "metadata": {},
   "outputs": [
    {
     "data": {
      "text/plain": [
       "[[x == 1, y == 2]]"
      ]
     },
     "execution_count": 38,
     "metadata": {},
     "output_type": "execute_result"
    }
   ],
   "source": [
    "# Системи рівнянь\n",
    "var('x y')\n",
    "eq1 = x + y == 3\n",
    "eq2 = 2*x - y == 0\n",
    "solve([eq1, eq2], x, y)"
   ]
  },
  {
   "cell_type": "code",
   "execution_count": 39,
   "id": "9bed33e1-9ed6-4351-8fee-85ea217f5a44",
   "metadata": {},
   "outputs": [
    {
     "name": "stdin",
     "output_type": "stream",
     "text": [
      "n =  7\n"
     ]
    },
    {
     "name": "stdout",
     "output_type": "stream",
     "text": [
      "додатнє\n"
     ]
    }
   ],
   "source": [
    "# Умовні оператори\n",
    "n = int(input(\"n = \"))\n",
    "if n > 0:\n",
    "    print(\"додатнє\")\n",
    "elif n < 0:\n",
    "    print(\"від'ємне\")\n",
    "else:\n",
    "    print(\"== 0\")\n"
   ]
  },
  {
   "cell_type": "code",
   "execution_count": 40,
   "id": "7f671b95-d2b5-49db-b595-2c2400430929",
   "metadata": {},
   "outputs": [
    {
     "name": "stdout",
     "output_type": "stream",
     "text": [
      "1\n",
      "2\n",
      "3\n",
      "4\n",
      "5\n",
      "6\n",
      "7\n",
      "8\n",
      "9\n",
      "10\n"
     ]
    }
   ],
   "source": [
    "# Цикли\n",
    "for i in range(1, 11):\n",
    "    print(i)"
   ]
  },
  {
   "cell_type": "code",
   "execution_count": 41,
   "id": "b268ec85-b707-44a9-961e-a536ce7c94d7",
   "metadata": {},
   "outputs": [
    {
     "data": {
      "text/plain": [
       "66"
      ]
     },
     "execution_count": 41,
     "metadata": {},
     "output_type": "execute_result"
    }
   ],
   "source": [
    "# Оголошення функцій\n",
    "def f(x):\n",
    "    return 3*x^2 - 2*x + 1\n",
    "\n",
    "result = f(5)\n",
    "result"
   ]
  },
  {
   "cell_type": "code",
   "execution_count": 42,
   "id": "d743ba7b-7a05-4c37-81d5-47a43c417db4",
   "metadata": {},
   "outputs": [
    {
     "data": {
      "image/png": "[encoded data removed]",
      "text/plain": [
       "Graphics object consisting of 2 graphics primitives"
      ]
     },
     "metadata": {},
     "output_type": "display_data"
    }
   ],
   "source": [
    "# Графіки декількох функцій\n",
    "f(x) = x^2 #pow\n",
    "g(x) = -x^2 + 5\n",
    "\n",
    "p1 = plot(f(x), (x, -3, 3), color='blue', legend_label='f(x) = x^2')\n",
    "p2 = plot(g(x), (x, -3, 3), color='red', legend_label='g(x) = -x^2 + 5')\n",
    "\n",
    "plot_combined = p1 + p2\n",
    "plot_combined.show()"
   ]
  }
 ],
 "metadata": {
  "kernelspec": {
   "display_name": "SageMath 10.4",
   "language": "sage",
   "name": "sagemath"
  },
  "language_info": {
   "codemirror_mode": {
    "name": "ipython",
    "version": 3
   },
   "file_extension": ".py",
   "mimetype": "text/x-python",
   "name": "python",
   "nbconvert_exporter": "python",
   "pygments_lexer": "ipython3",
   "version": "3.11.10"
  }
 },
 "nbformat": 4,
 "nbformat_minor": 5
}
